{
 "cells": [
  {
   "cell_type": "code",
   "execution_count": 36,
   "metadata": {},
   "outputs": [
    {
     "name": "stdout",
     "output_type": "stream",
     "text": [
      "Index(['job_title_AI Architect', 'job_title_AI Developer',\n",
      "       'job_title_AI Engineer', 'job_title_AI Programmer',\n",
      "       'job_title_AI Research Engineer', 'job_title_AI Scientist',\n",
      "       'job_title_AWS Data Architect', 'job_title_Analytics Engineer',\n",
      "       'job_title_Analytics Engineering Manager',\n",
      "       'job_title_Applied Data Scientist',\n",
      "       ...\n",
      "       'company_location_Thailand', 'company_location_Turkey',\n",
      "       'company_location_Ukraine', 'company_location_United Arab Emirates',\n",
      "       'company_location_United Kingdom', 'company_location_United States',\n",
      "       'Company_size_Large', 'Company_size_Medium', 'Company_size_Small',\n",
      "       'salary_in_usd'],\n",
      "      dtype='object', length=303)\n"
     ]
    }
   ],
   "source": [
    "import streamlit as st\n",
    "import pandas as pd\n",
    "import joblib\n",
    "\n",
    "# Replace with your actual paths\n",
    "encoded_data = pd.read_csv('encoded_data.csv')\n",
    "print(encoded_data.columns)\n",
    "model = joblib.load('MODEL_RFR.pkl')\n"
   ]
  },
  {
   "cell_type": "code",
   "execution_count": 37,
   "metadata": {},
   "outputs": [],
   "source": [
    "# Identify categorical feature names from your encoded data\n",
    "job_category = encoded_data.filter(like='category').columns.tolist()\n",
    "job_title = encoded_data.filter(like='job_title').columns.tolist()\n",
    "employee_residence = encoded_data.filter(like='employee_residence').columns.tolist()\n",
    "experience_level = encoded_data.filter(like='experience_level').columns.tolist()\n",
    "employment_type = encoded_data.filter(like='employment_type').columns.tolist()\n",
    "work_setting = encoded_data.filter(like='work_setting').columns.tolist()\n",
    "company_location = encoded_data.filter(like='company_location').columns.tolist()\n",
    "company_size = encoded_data.filter(like=\"Company_size\").columns.tolist()\n",
    "\n",
    "# Create empty dictionary to store user input\n",
    "user_input = {}\n",
    "\n",
    "def main():\n",
    "    st.title(\"Salary Prediction\")\n",
    "\n",
    "    # Input fields\n",
    "    job_title = st.text_input(\"Job Title\",opt_job_title)\n",
    "    st.write(\"You selected:\", job_title)\n",
    "    \n",
    "    job_category = st.text_input(\"Job Category\",opt_job_category)\n",
    "    st.write(\"You selected:\", job_category)\n",
    "    \n",
    "    employee_residence = st.text_input(\"Employee Residence\",opt_employee_residence)\n",
    "    st.write(\"You selected:\", employee_residence)\n",
    "    \n",
    "    experience_level = st.text_input(\"Experience Level\",opt_experience_level)\n",
    "    st.write(\"You selected:\", experience_level)\n",
    "    \n",
    "    employment_type = st.text_input(\"Employment Type\",opt_employment_type)\n",
    "    st.write(\"You selected:\", employment_type)\n",
    "    \n",
    "    work_setting = st.text_input(\"Work Setting\",opt_work_setting)\n",
    "    st.write(\"You selected:\", work_setting)\n",
    "    \n",
    "    company_location = st.text_input(\"Company Location\",opt_company_location)\n",
    "    st.write(\"You selected:\", company_location)\n",
    "    \n",
    "    company_size = st.text_input(\"Company Size\",opt_company_size)\n",
    "    st.write(\"You selected:\", company_size)\n"
   ]
  },
  {
   "cell_type": "code",
   "execution_count": 38,
   "metadata": {},
   "outputs": [
    {
     "name": "stdout",
     "output_type": "stream",
     "text": [
      "['BI and Visualization', 'Cloud and Database', 'Data Analysis', 'Data Architecture and Modeling', 'Data Engineering', 'Data Management and Strategy', 'Data Quality and Operations', 'Data Science and Research', 'Leadership and Management', 'Machine Learning and AI']\n",
      "['AI Architect', 'AI Developer', 'AI Engineer', 'AI Programmer', 'AI Research Engineer', 'AI Scientist', 'AWS Data Architect', 'Analytics Engineer', 'Analytics Engineering Manager', 'Applied Data Scientist', 'Applied Machine Learning Engineer', 'Applied Machine Learning Scientist', 'Applied Scientist', 'Autonomous Vehicle Technician', 'Azure Data Engineer', 'BI Analyst', 'BI Data Analyst', 'BI Data Engineer', 'BI Developer', 'Big Data Architect', 'Big Data Engineer', 'Business Data Analyst', 'Business Intelligence Analyst', 'Business Intelligence Data Analyst', 'Business Intelligence Developer', 'Business Intelligence Engineer', 'Business Intelligence Manager', 'Business Intelligence Specialist', 'Cloud Data Architect', 'Cloud Data Engineer', 'Cloud Database Engineer', 'Compliance Data Analyst', 'Computer Vision Engineer', 'Computer Vision Software Engineer', 'Consultant Data Engineer', 'Data Analyst', 'Data Analytics Consultant', 'Data Analytics Engineer', 'Data Analytics Lead', 'Data Analytics Manager', 'Data Analytics Specialist', 'Data Architect', 'Data DevOps Engineer', 'Data Developer', 'Data Engineer', 'Data Infrastructure Engineer', 'Data Integration Engineer', 'Data Integration Specialist', 'Data Lead', 'Data Management Analyst', 'Data Management Specialist', 'Data Manager', 'Data Modeler', 'Data Modeller', 'Data Operations Analyst', 'Data Operations Engineer', 'Data Operations Manager', 'Data Operations Specialist', 'Data Product Manager', 'Data Product Owner', 'Data Quality Analyst', 'Data Quality Engineer', 'Data Science Consultant', 'Data Science Director', 'Data Science Engineer', 'Data Science Lead', 'Data Science Manager', 'Data Science Practitioner', 'Data Science Tech Lead', 'Data Scientist', 'Data Scientist Lead', 'Data Specialist', 'Data Strategist', 'Data Strategy Manager', 'Data Visualization Analyst', 'Data Visualization Engineer', 'Data Visualization Specialist', 'Decision Scientist', 'Deep Learning Engineer', 'Deep Learning Researcher', 'Director of Data Science', 'ETL Developer', 'ETL Engineer', 'Finance Data Analyst', 'Financial Data Analyst', 'Head of Data', 'Head of Data Science', 'Head of Machine Learning', 'Insight Analyst', 'Lead Data Analyst', 'Lead Data Engineer', 'Lead Data Scientist', 'Lead Machine Learning Engineer', 'ML Engineer', 'MLOps Engineer', 'Machine Learning Developer', 'Machine Learning Engineer', 'Machine Learning Infrastructure Engineer', 'Machine Learning Manager', 'Machine Learning Modeler', 'Machine Learning Operations Engineer', 'Machine Learning Research Engineer', 'Machine Learning Researcher', 'Machine Learning Scientist', 'Machine Learning Software Engineer', 'Machine Learning Specialist', 'Manager Data Management', 'Managing Director Data Science', 'Marketing Data Analyst', 'Marketing Data Engineer', 'NLP Engineer', 'Power BI Developer', 'Principal Data Analyst', 'Principal Data Engineer', 'Principal Data Scientist', 'Principal Machine Learning Engineer', 'Product Data Analyst', 'Research Analyst', 'Research Engineer', 'Research Scientist', 'Sales Data Analyst', 'Software Data Engineer', 'Staff Data Analyst', 'Staff Data Scientist', 'Staff Machine Learning Engineer']\n",
      "['Algeria', 'American Samoa', 'Andorra', 'Argentina', 'Armenia', 'Australia', 'Austria', 'Belgium', 'Bolivia', 'Bosnia and Herzegovina', 'Brazil', 'Bulgaria', 'Canada', 'Central African Republic', 'Chile', 'China', 'Colombia', 'Costa Rica', 'Croatia', 'Cyprus', 'Czech Republic', 'Denmark', 'Dominican Republic', 'Ecuador', 'Egypt', 'Estonia', 'Finland', 'France', 'Georgia', 'Germany', 'Ghana', 'Greece', 'Honduras', 'Hong Kong', 'India', 'Indonesia', 'Iran', 'Iraq', 'Ireland', 'Italy', 'Japan', 'Jersey', 'Kenya', 'Kuwait', 'Latvia', 'Lithuania', 'Luxembourg', 'Malaysia', 'Malta', 'Mauritius', 'Mexico', 'Moldova', 'Netherlands', 'New Zealand', 'Nigeria', 'Pakistan', 'Peru', 'Philippines', 'Poland', 'Portugal', 'Puerto Rico', 'Qatar', 'Romania', 'Russia', 'Saudi Arabia', 'Serbia', 'Singapore', 'Slovenia', 'South Africa', 'South Korea', 'Spain', 'Sweden', 'Switzerland', 'Thailand', 'Tunisia', 'Turkey', 'Uganda', 'Ukraine', 'United Arab Emirates', 'United Kingdom', 'United States', 'Uzbekistan', 'Vietnam']\n",
      "['Entry-level', 'Executive', 'Mid-level', 'Senior']\n",
      "['Contract', 'Freelance', 'Full-time', 'Part-time']\n",
      "['Hybrid', 'In-person', 'Remote']\n",
      "['Algeria', 'American Samoa', 'Andorra', 'Argentina', 'Armenia', 'Australia', 'Austria', 'Bahamas', 'Belgium', 'Bosnia and Herzegovina', 'Brazil', 'Canada', 'Central African Republic', 'China', 'Colombia', 'Croatia', 'Czech Republic', 'Denmark', 'Ecuador', 'Egypt', 'Estonia', 'Finland', 'France', 'Germany', 'Ghana', 'Gibraltar', 'Greece', 'Honduras', 'India', 'Indonesia', 'Iran', 'Iraq', 'Ireland', 'Israel', 'Italy', 'Japan', 'Kenya', 'Latvia', 'Lithuania', 'Luxembourg', 'Malaysia', 'Malta', 'Mauritius', 'Mexico', 'Moldova', 'Netherlands', 'New Zealand', 'Nigeria', 'Pakistan', 'Philippines', 'Poland', 'Portugal', 'Puerto Rico', 'Qatar', 'Romania', 'Russia', 'Saudi Arabia', 'Singapore', 'Slovenia', 'South Africa', 'South Korea', 'Spain', 'Sweden', 'Switzerland', 'Thailand', 'Turkey', 'Ukraine', 'United Arab Emirates', 'United Kingdom', 'United States']\n",
      "['Large', 'Medium', 'Small']\n"
     ]
    }
   ],
   "source": [
    "# Function to extract substring after the last underscore\n",
    "def extract_substring(value):\n",
    "    parts = value.rsplit('_', 1)  # Split the string at the last underscore\n",
    "    return parts[-1].strip()  # Return the part after the last underscore, removing leading and trailing whitespace\n",
    "\n",
    "# Extract substrings after the last underscore\n",
    "opt_job_category= [extract_substring(value) for value in job_category]\n",
    "\n",
    "print(opt_job_category)\n",
    "# Return the part after the last underscore, removing leading and trailing whitespace\n",
    "\n",
    "# Extract substrings after the last underscore\n",
    "opt_job_title= [extract_substring(value) for value in job_title]\n",
    "\n",
    "print(opt_job_title)\n",
    "\n",
    "\n",
    "# Extract substrings after the last underscore\n",
    "opt_employee_residence= [extract_substring(value) for value in employee_residence]\n",
    "\n",
    "print(opt_employee_residence)\n",
    "\n",
    "# Extract substrings after the last underscore\n",
    "opt_experience_level= [extract_substring(value) for value in experience_level]\n",
    "\n",
    "print(opt_experience_level)\n",
    "\n",
    "# Extract substrings after the last underscore\n",
    "opt_employment_type= [extract_substring(value) for value in employment_type]\n",
    "\n",
    "print(opt_employment_type)\n",
    "\n",
    "# Extract substrings after the last underscore\n",
    "opt_work_setting= [extract_substring(value) for value in work_setting]\n",
    "\n",
    "print(opt_work_setting)\n",
    "\n",
    "\n",
    "# Extract substrings after the last underscore\n",
    "opt_company_location= [extract_substring(value) for value in company_location]\n",
    "\n",
    "print(opt_company_location)\n",
    "\n",
    "# Extract substrings after the last underscore\n",
    "opt_company_size= [extract_substring(value) for value in company_size]\n",
    "\n",
    "print(opt_company_size)\n",
    "\n"
   ]
  },
  {
   "cell_type": "code",
   "execution_count": null,
   "metadata": {},
   "outputs": [],
   "source": []
  },
  {
   "cell_type": "code",
   "execution_count": 16,
   "metadata": {},
   "outputs": [
    {
     "name": "stdout",
     "output_type": "stream",
     "text": [
      "['job_category_BI and Visualization', 'job_category_Cloud and Database', 'job_category_Data Analysis', 'job_category_Data Architecture and Modeling', 'job_category_Data Engineering', 'job_category_Data Management and Strategy', 'job_category_Data Quality and Operations', 'job_category_Data Science and Research', 'job_category_Leadership and Management', 'job_category_Machine Learning and AI']\n",
      "['job_title_AI Architect', 'job_title_AI Developer', 'job_title_AI Engineer', 'job_title_AI Programmer', 'job_title_AI Research Engineer', 'job_title_AI Scientist', 'job_title_AWS Data Architect', 'job_title_Analytics Engineer', 'job_title_Analytics Engineering Manager', 'job_title_Applied Data Scientist', 'job_title_Applied Machine Learning Engineer', 'job_title_Applied Machine Learning Scientist', 'job_title_Applied Scientist', 'job_title_Autonomous Vehicle Technician', 'job_title_Azure Data Engineer', 'job_title_BI Analyst', 'job_title_BI Data Analyst', 'job_title_BI Data Engineer', 'job_title_BI Developer', 'job_title_Big Data Architect', 'job_title_Big Data Engineer', 'job_title_Business Data Analyst', 'job_title_Business Intelligence Analyst', 'job_title_Business Intelligence Data Analyst', 'job_title_Business Intelligence Developer', 'job_title_Business Intelligence Engineer', 'job_title_Business Intelligence Manager', 'job_title_Business Intelligence Specialist', 'job_title_Cloud Data Architect', 'job_title_Cloud Data Engineer', 'job_title_Cloud Database Engineer', 'job_title_Compliance Data Analyst', 'job_title_Computer Vision Engineer', 'job_title_Computer Vision Software Engineer', 'job_title_Consultant Data Engineer', 'job_title_Data Analyst', 'job_title_Data Analytics Consultant', 'job_title_Data Analytics Engineer', 'job_title_Data Analytics Lead', 'job_title_Data Analytics Manager', 'job_title_Data Analytics Specialist', 'job_title_Data Architect', 'job_title_Data DevOps Engineer', 'job_title_Data Developer', 'job_title_Data Engineer', 'job_title_Data Infrastructure Engineer', 'job_title_Data Integration Engineer', 'job_title_Data Integration Specialist', 'job_title_Data Lead', 'job_title_Data Management Analyst', 'job_title_Data Management Specialist', 'job_title_Data Manager', 'job_title_Data Modeler', 'job_title_Data Modeller', 'job_title_Data Operations Analyst', 'job_title_Data Operations Engineer', 'job_title_Data Operations Manager', 'job_title_Data Operations Specialist', 'job_title_Data Product Manager', 'job_title_Data Product Owner', 'job_title_Data Quality Analyst', 'job_title_Data Quality Engineer', 'job_title_Data Science Consultant', 'job_title_Data Science Director', 'job_title_Data Science Engineer', 'job_title_Data Science Lead', 'job_title_Data Science Manager', 'job_title_Data Science Practitioner', 'job_title_Data Science Tech Lead', 'job_title_Data Scientist', 'job_title_Data Scientist Lead', 'job_title_Data Specialist', 'job_title_Data Strategist', 'job_title_Data Strategy Manager', 'job_title_Data Visualization Analyst', 'job_title_Data Visualization Engineer', 'job_title_Data Visualization Specialist', 'job_title_Decision Scientist', 'job_title_Deep Learning Engineer', 'job_title_Deep Learning Researcher', 'job_title_Director of Data Science', 'job_title_ETL Developer', 'job_title_ETL Engineer', 'job_title_Finance Data Analyst', 'job_title_Financial Data Analyst', 'job_title_Head of Data', 'job_title_Head of Data Science', 'job_title_Head of Machine Learning', 'job_title_Insight Analyst', 'job_title_Lead Data Analyst', 'job_title_Lead Data Engineer', 'job_title_Lead Data Scientist', 'job_title_Lead Machine Learning Engineer', 'job_title_ML Engineer', 'job_title_MLOps Engineer', 'job_title_Machine Learning Developer', 'job_title_Machine Learning Engineer', 'job_title_Machine Learning Infrastructure Engineer', 'job_title_Machine Learning Manager', 'job_title_Machine Learning Modeler', 'job_title_Machine Learning Operations Engineer', 'job_title_Machine Learning Research Engineer', 'job_title_Machine Learning Researcher', 'job_title_Machine Learning Scientist', 'job_title_Machine Learning Software Engineer', 'job_title_Machine Learning Specialist', 'job_title_Manager Data Management', 'job_title_Managing Director Data Science', 'job_title_Marketing Data Analyst', 'job_title_Marketing Data Engineer', 'job_title_NLP Engineer', 'job_title_Power BI Developer', 'job_title_Principal Data Analyst', 'job_title_Principal Data Engineer', 'job_title_Principal Data Scientist', 'job_title_Principal Machine Learning Engineer', 'job_title_Product Data Analyst', 'job_title_Research Analyst', 'job_title_Research Engineer', 'job_title_Research Scientist', 'job_title_Sales Data Analyst', 'job_title_Software Data Engineer', 'job_title_Staff Data Analyst', 'job_title_Staff Data Scientist', 'job_title_Staff Machine Learning Engineer']\n"
     ]
    }
   ],
   "source": [
    "print(job_category)\n",
    "print(job_title)"
   ]
  },
  {
   "cell_type": "code",
   "execution_count": 19,
   "metadata": {},
   "outputs": [],
   "source": [
    "def preprocess_input(job_title, job_category, employee_residence, experience_level, employment_type, work_setting, company_location, company_size):\n",
    "    # Create a DataFrame with input data\n",
    "    input_data = pd.DataFrame({\n",
    "        'job_title': [job_title],\n",
    "        'job_category': [job_category],\n",
    "        'employee_residence': [employee_residence],\n",
    "        'experience_level': [experience_level],\n",
    "        'employment_type': [employment_type],\n",
    "        'work_setting': [work_setting],\n",
    "        'company_location': [company_location],\n",
    "        'Company_size': [company_size]\n",
    "    }) \n",
    "    \n"
   ]
  },
  {
   "cell_type": "code",
   "execution_count": 18,
   "metadata": {},
   "outputs": [],
   "source": [
    "if st.button('Predict Salary'):\n",
    "    # Create a DataFrame from user input\n",
    "    user_data_df = pd.DataFrame(user_input, index=[0])\n",
    "\n",
    "    # Prediction using the model\n",
    "    prediction = model.predict(user_data_df)\n",
    "\n",
    "    # Process the prediction result (e.g., convert to scalar)\n",
    "    predicted_salary = prediction.iloc[0]  # Assuming single value\n",
    "\n",
    "    st.success(f'Predicted Salary: ${predicted_salary:.2f}')\n"
   ]
  }
 ],
 "metadata": {
  "kernelspec": {
   "display_name": "Python 3",
   "language": "python",
   "name": "python3"
  },
  "language_info": {
   "codemirror_mode": {
    "name": "ipython",
    "version": 3
   },
   "file_extension": ".py",
   "mimetype": "text/x-python",
   "name": "python",
   "nbconvert_exporter": "python",
   "pygments_lexer": "ipython3",
   "version": "3.11.5"
  }
 },
 "nbformat": 4,
 "nbformat_minor": 2
}
